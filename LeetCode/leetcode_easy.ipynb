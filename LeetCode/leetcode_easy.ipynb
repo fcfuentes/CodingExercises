{
 "cells": [
  {
   "cell_type": "markdown",
   "metadata": {},
   "source": [
    "Given two strings s and t, determine if they are isomorphic.\n",
    "\n",
    "Two strings s and t are isomorphic if the characters in s can be replaced to get t.\n",
    "\n",
    "All occurrences of a character must be replaced with another character while preserving the order of characters. No two characters may map to the same character, but a character may map to itself.\n",
    "\n",
    " \n",
    "\n",
    "Example 1:\n",
    "\n",
    "Input: s = \"egg\", t = \"add\"\n",
    "Output: true\n",
    "Example 2:\n",
    "\n",
    "Input: s = \"foo\", t = \"bar\"\n",
    "Output: false\n",
    "Example 3:\n",
    "\n",
    "Input: s = \"paper\", t = \"title\"\n",
    "Output: true\n",
    " \n",
    "\n",
    "Constraints:\n",
    "\n",
    "1 <= s.length <= 5 * 104\n",
    "t.length == s.length\n",
    "s and t consist of any valid ascii character."
   ]
  },
  {
   "cell_type": "code",
   "execution_count": 1,
   "metadata": {},
   "outputs": [],
   "source": [
    "def isIsomorphic(s: str, t: str) -> bool:\n",
    "    \n",
    "    s_dict = {key : ord(key) for key in s}\n",
    "    t_dict = {key : ord(key) for key in t}\n",
    "\n",
    "    if len(s_dict.keys()) != len(t_dict.keys()):\n",
    "        return False\n",
    "\n",
    "    s_iter = iter(s_dict.values())\n",
    "    mapped_dict = {k: next(s_iter) for k in t_dict.keys()}\n",
    "    \n",
    "    t_trans = \"\"\n",
    "    for letter in t:\n",
    "        t_trans += chr(mapped_dict[letter])\n",
    "\n",
    "    if(s == t_trans):\n",
    "        return True\n",
    "    else:\n",
    "        return False    "
   ]
  },
  {
   "cell_type": "code",
   "execution_count": 2,
   "metadata": {},
   "outputs": [],
   "source": [
    "assert isIsomorphic(s=\"egg\",t=\"add\") is True\n",
    "assert isIsomorphic(s=\"foo\",t=\"bar\") is False\n",
    "assert isIsomorphic(s=\"paper\",t=\"title\") is True"
   ]
  },
  {
   "cell_type": "markdown",
   "metadata": {},
   "source": [
    "Given a pattern and a string s, find if s follows the same pattern.\n",
    "\n",
    "Here follow means a full match, such that there is a bijection between a letter in pattern and a non-empty word in s.\n",
    "\n",
    " \n",
    "\n",
    "Example 1:\n",
    "\n",
    "Input: pattern = \"abba\", s = \"dog cat cat dog\"\n",
    "Output: true\n",
    "Example 2:\n",
    "\n",
    "Input: pattern = \"abba\", s = \"dog cat cat fish\"\n",
    "Output: false\n",
    "Example 3:\n",
    "\n",
    "Input: pattern = \"aaaa\", s = \"dog cat cat dog\"\n",
    "Output: false\n",
    " \n",
    "\n",
    "Constraints:\n",
    "\n",
    "1 <= pattern.length <= 300\n",
    "pattern contains only lower-case English letters.\n",
    "1 <= s.length <= 3000\n",
    "s contains only lowercase English letters and spaces ' '.\n",
    "s does not contain any leading or trailing spaces.\n",
    "All the words in s are separated by a single space."
   ]
  },
  {
   "cell_type": "code",
   "execution_count": 3,
   "metadata": {},
   "outputs": [],
   "source": [
    "def wordPattern(pattern: str, s: str) -> bool:\n",
    "    if s is None or s == \"\":\n",
    "        return False\n",
    "    \n",
    "    s_words = s.split()\n",
    "    if (len(s_words) != len(pattern)) or (len(set(pattern)) != len(set(s_words))):\n",
    "        return False\n",
    "    \n",
    "    s_words_iter = iter(s_words)\n",
    "    words_pattern_map = {}\n",
    "    sentence = \"\"\n",
    "    for char_p in pattern:\n",
    "        next_word = next(s_words_iter)\n",
    "        if next_word not in words_pattern_map.values():\n",
    "            words_pattern_map[char_p] = next_word\n",
    "        \n",
    "        sentence += words_pattern_map[char_p] + \" \"\n",
    "\n",
    "    if sentence.rstrip() != s:\n",
    "        return False\n",
    "\n",
    "    return True"
   ]
  },
  {
   "cell_type": "code",
   "execution_count": 4,
   "metadata": {},
   "outputs": [],
   "source": [
    "assert wordPattern(pattern=\"abba\", s=\"dog cat cat dog\") == True\n",
    "assert wordPattern(pattern=\"abba\", s=\"dog cat cat fish\") == False\n",
    "assert wordPattern(pattern=\"aaaa\", s=\"dog cat cat dog\") == False    \n",
    "assert wordPattern(pattern=\"abba\", s=\"dog dog dog dog\") == False"
   ]
  },
  {
   "cell_type": "markdown",
   "metadata": {},
   "source": [
    "Given two strings s and t, return true if t is an anagram of s, and false otherwise.\n",
    "\n",
    "An Anagram is a word or phrase formed by rearranging the letters of a different word or phrase, typically using all the original letters exactly once.\n",
    "\n",
    " \n",
    "\n",
    "Example 1:\n",
    "\n",
    "Input: s = \"anagram\", t = \"nagaram\"\n",
    "Output: true\n",
    "Example 2:\n",
    "\n",
    "Input: s = \"rat\", t = \"car\"\n",
    "Output: false\n",
    " \n",
    "\n",
    "Constraints:\n",
    "\n",
    "1 <= s.length, t.length <= 5 * 104\n",
    "s and t consist of lowercase English letters."
   ]
  },
  {
   "cell_type": "code",
   "execution_count": null,
   "metadata": {},
   "outputs": [],
   "source": [
    "from collections import Counter\n",
    "def isAnagram(s: str, t: str) -> bool:\n",
    "    return Counter(s) == Counter(t)"
   ]
  },
  {
   "cell_type": "code",
   "execution_count": null,
   "metadata": {},
   "outputs": [],
   "source": [
    "assert isAnagram(s=\"anagram\", t=\"nagaram\") == True\n",
    "assert isAnagram(s=\"rat\", t=\"car\") == False"
   ]
  }
 ],
 "metadata": {
  "kernelspec": {
   "display_name": "Python 3",
   "language": "python",
   "name": "python3"
  },
  "language_info": {
   "codemirror_mode": {
    "name": "ipython",
    "version": 3
   },
   "file_extension": ".py",
   "mimetype": "text/x-python",
   "name": "python",
   "nbconvert_exporter": "python",
   "pygments_lexer": "ipython3",
   "version": "3.10.7"
  }
 },
 "nbformat": 4,
 "nbformat_minor": 2
}
